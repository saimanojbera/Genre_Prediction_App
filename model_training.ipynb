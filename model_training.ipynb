{
 "cells": [
  {
   "cell_type": "code",
   "execution_count": 1,
   "metadata": {},
   "outputs": [
    {
     "name": "stderr",
     "output_type": "stream",
     "text": [
      "C:\\Users\\saima\\OneDrive\\Desktop\\Genre_Prediction\\venv\\Lib\\site-packages\\tqdm\\auto.py:21: TqdmWarning: IProgress not found. Please update jupyter and ipywidgets. See https://ipywidgets.readthedocs.io/en/stable/user_install.html\n",
      "  from .autonotebook import tqdm as notebook_tqdm\n"
     ]
    }
   ],
   "source": [
    "import pandas as pd\n",
    "import numpy as np\n",
    "from tqdm import tqdm\n",
    "import spacy\n",
    "from sklearn.model_selection import train_test_split\n",
    "from sklearn.metrics import accuracy_score\n",
    "import tensorflow as tf\n",
    "from gensim.models import KeyedVectors\n",
    "from huggingface_hub import hf_hub_download\n"
   ]
  },
  {
   "cell_type": "code",
   "execution_count": 2,
   "metadata": {},
   "outputs": [],
   "source": [
    "\n",
    "# Load data\n",
    "df1 = pd.read_csv(\"./assignment_1.4.csv\")\n",
    "\n"
   ]
  },
  {
   "cell_type": "code",
   "execution_count": 3,
   "metadata": {},
   "outputs": [
    {
     "data": {
      "text/html": [
       "<div>\n",
       "<style scoped>\n",
       "    .dataframe tbody tr th:only-of-type {\n",
       "        vertical-align: middle;\n",
       "    }\n",
       "\n",
       "    .dataframe tbody tr th {\n",
       "        vertical-align: top;\n",
       "    }\n",
       "\n",
       "    .dataframe thead th {\n",
       "        text-align: right;\n",
       "    }\n",
       "</style>\n",
       "<table border=\"1\" class=\"dataframe\">\n",
       "  <thead>\n",
       "    <tr style=\"text-align: right;\">\n",
       "      <th></th>\n",
       "      <th>genre</th>\n",
       "      <th>description</th>\n",
       "    </tr>\n",
       "  </thead>\n",
       "  <tbody>\n",
       "    <tr>\n",
       "      <th>0</th>\n",
       "      <td>horror</td>\n",
       "      <td>When six friends fly off on a weekend getaway...</td>\n",
       "    </tr>\n",
       "    <tr>\n",
       "      <th>1</th>\n",
       "      <td>horror</td>\n",
       "      <td>The story is about a young girl who was touch...</td>\n",
       "    </tr>\n",
       "    <tr>\n",
       "      <th>2</th>\n",
       "      <td>romance</td>\n",
       "      <td>A young woman named Anna has always longed fo...</td>\n",
       "    </tr>\n",
       "    <tr>\n",
       "      <th>3</th>\n",
       "      <td>horror</td>\n",
       "      <td>A London couple moves to a large country hous...</td>\n",
       "    </tr>\n",
       "    <tr>\n",
       "      <th>4</th>\n",
       "      <td>horror</td>\n",
       "      <td>In a small college in North Carolina, only a ...</td>\n",
       "    </tr>\n",
       "  </tbody>\n",
       "</table>\n",
       "</div>"
      ],
      "text/plain": [
       "       genre                                        description\n",
       "0    horror    When six friends fly off on a weekend getaway...\n",
       "1    horror    The story is about a young girl who was touch...\n",
       "2   romance    A young woman named Anna has always longed fo...\n",
       "3    horror    A London couple moves to a large country hous...\n",
       "4    horror    In a small college in North Carolina, only a ..."
      ]
     },
     "execution_count": 3,
     "metadata": {},
     "output_type": "execute_result"
    }
   ],
   "source": [
    "df1.head()"
   ]
  },
  {
   "cell_type": "code",
   "execution_count": 4,
   "metadata": {},
   "outputs": [
    {
     "data": {
      "text/html": [
       "<div>\n",
       "<style scoped>\n",
       "    .dataframe tbody tr th:only-of-type {\n",
       "        vertical-align: middle;\n",
       "    }\n",
       "\n",
       "    .dataframe tbody tr th {\n",
       "        vertical-align: top;\n",
       "    }\n",
       "\n",
       "    .dataframe thead th {\n",
       "        text-align: right;\n",
       "    }\n",
       "</style>\n",
       "<table border=\"1\" class=\"dataframe\">\n",
       "  <thead>\n",
       "    <tr style=\"text-align: right;\">\n",
       "      <th></th>\n",
       "      <th>genre</th>\n",
       "      <th>description</th>\n",
       "      <th>genre_numerical</th>\n",
       "    </tr>\n",
       "  </thead>\n",
       "  <tbody>\n",
       "    <tr>\n",
       "      <th>0</th>\n",
       "      <td>horror</td>\n",
       "      <td>When six friends fly off on a weekend getaway...</td>\n",
       "      <td>1</td>\n",
       "    </tr>\n",
       "    <tr>\n",
       "      <th>1</th>\n",
       "      <td>horror</td>\n",
       "      <td>The story is about a young girl who was touch...</td>\n",
       "      <td>1</td>\n",
       "    </tr>\n",
       "    <tr>\n",
       "      <th>2</th>\n",
       "      <td>romance</td>\n",
       "      <td>A young woman named Anna has always longed fo...</td>\n",
       "      <td>0</td>\n",
       "    </tr>\n",
       "    <tr>\n",
       "      <th>3</th>\n",
       "      <td>horror</td>\n",
       "      <td>A London couple moves to a large country hous...</td>\n",
       "      <td>1</td>\n",
       "    </tr>\n",
       "    <tr>\n",
       "      <th>4</th>\n",
       "      <td>horror</td>\n",
       "      <td>In a small college in North Carolina, only a ...</td>\n",
       "      <td>1</td>\n",
       "    </tr>\n",
       "  </tbody>\n",
       "</table>\n",
       "</div>"
      ],
      "text/plain": [
       "     genre                                        description  genre_numerical\n",
       "0   horror   When six friends fly off on a weekend getaway...                1\n",
       "1   horror   The story is about a young girl who was touch...                1\n",
       "2  romance   A young woman named Anna has always longed fo...                0\n",
       "3   horror   A London couple moves to a large country hous...                1\n",
       "4   horror   In a small college in North Carolina, only a ...                1"
      ]
     },
     "execution_count": 4,
     "metadata": {},
     "output_type": "execute_result"
    }
   ],
   "source": [
    "# Strip leading and trailing spaces from the genre column\n",
    "df1['genre'] = df1['genre'].str.strip()\n",
    "\n",
    "# Map genre to numerical values\n",
    "df1['genre_numerical'] = df1.genre.map({'horror': 1, 'romance': 0})\n",
    "\n",
    "# Display the first few rows of the DataFrame to verify the mapping\n",
    "df1.head()\n"
   ]
  },
  {
   "cell_type": "code",
   "execution_count": 5,
   "metadata": {},
   "outputs": [],
   "source": [
    "\n",
    "# Load the Word2Vec model\n",
    "repo_id = \"NathaNn1111/word2vec-google-news-negative-300-bin\"\n",
    "filename = \"GoogleNews-vectors-negative300.bin\"\n",
    "model_path = hf_hub_download(repo_id=repo_id, filename=filename)\n",
    "word2vec = KeyedVectors.load_word2vec_format(model_path, binary=True)\n"
   ]
  },
  {
   "cell_type": "code",
   "execution_count": 7,
   "metadata": {},
   "outputs": [],
   "source": [
    "\n",
    "# Load spacy model\n",
    "nlp = spacy.load(\"en_core_web_lg\")\n"
   ]
  },
  {
   "cell_type": "code",
   "execution_count": 8,
   "metadata": {},
   "outputs": [],
   "source": [
    "\n",
    "# Function to create mean vector for a description\n",
    "def description_to_vector(description):\n",
    "    tokens = [token.text.lower() for token in nlp(description) if token.is_alpha]\n",
    "    vectors = [word2vec[word] for word in tokens if word in word2vec]\n",
    "    if vectors:\n",
    "        return np.mean(vectors, axis=0)\n",
    "    else:\n",
    "        return np.zeros(word2vec.vector_size)\n"
   ]
  },
  {
   "cell_type": "code",
   "execution_count": 9,
   "metadata": {},
   "outputs": [
    {
     "name": "stderr",
     "output_type": "stream",
     "text": [
      "100%|█████████████████████████████████████████████████████████████████████████████████████████████████████████████████| 1344/1344 [00:39<00:00, 34.23it/s]\n"
     ]
    }
   ],
   "source": [
    "\n",
    "# Generate mean vectors for all descriptions\n",
    "tqdm.pandas()\n",
    "df1['vector'] = df1['description'].progress_apply(description_to_vector)\n"
   ]
  },
  {
   "cell_type": "code",
   "execution_count": 10,
   "metadata": {},
   "outputs": [
    {
     "name": "stderr",
     "output_type": "stream",
     "text": [
      "C:\\Users\\saima\\OneDrive\\Desktop\\Genre_Prediction\\venv\\Lib\\site-packages\\keras\\src\\layers\\core\\dense.py:87: UserWarning: Do not pass an `input_shape`/`input_dim` argument to a layer. When using Sequential models, prefer using an `Input(shape)` object as the first layer in the model instead.\n",
      "  super().__init__(activity_regularizer=activity_regularizer, **kwargs)\n"
     ]
    },
    {
     "name": "stdout",
     "output_type": "stream",
     "text": [
      "Epoch 1/500\n",
      "\u001b[1m27/27\u001b[0m \u001b[32m━━━━━━━━━━━━━━━━━━━━\u001b[0m\u001b[37m\u001b[0m \u001b[1m3s\u001b[0m 26ms/step - accuracy: 0.5515 - loss: 0.6857 - val_accuracy: 0.8651 - val_loss: 0.6425\n",
      "Epoch 2/500\n",
      "\u001b[1m27/27\u001b[0m \u001b[32m━━━━━━━━━━━━━━━━━━━━\u001b[0m\u001b[37m\u001b[0m \u001b[1m0s\u001b[0m 7ms/step - accuracy: 0.7537 - loss: 0.6317 - val_accuracy: 0.9209 - val_loss: 0.5218\n",
      "Epoch 3/500\n",
      "\u001b[1m27/27\u001b[0m \u001b[32m━━━━━━━━━━━━━━━━━━━━\u001b[0m\u001b[37m\u001b[0m \u001b[1m0s\u001b[0m 7ms/step - accuracy: 0.8390 - loss: 0.5114 - val_accuracy: 0.9116 - val_loss: 0.3674\n",
      "Epoch 4/500\n",
      "\u001b[1m27/27\u001b[0m \u001b[32m━━━━━━━━━━━━━━━━━━━━\u001b[0m\u001b[37m\u001b[0m \u001b[1m0s\u001b[0m 7ms/step - accuracy: 0.9097 - loss: 0.3610 - val_accuracy: 0.9209 - val_loss: 0.2585\n",
      "Epoch 5/500\n",
      "\u001b[1m27/27\u001b[0m \u001b[32m━━━━━━━━━━━━━━━━━━━━\u001b[0m\u001b[37m\u001b[0m \u001b[1m0s\u001b[0m 7ms/step - accuracy: 0.9203 - loss: 0.2575 - val_accuracy: 0.9209 - val_loss: 0.2376\n",
      "Epoch 6/500\n",
      "\u001b[1m27/27\u001b[0m \u001b[32m━━━━━━━━━━━━━━━━━━━━\u001b[0m\u001b[37m\u001b[0m \u001b[1m0s\u001b[0m 7ms/step - accuracy: 0.9167 - loss: 0.2232 - val_accuracy: 0.9302 - val_loss: 0.2036\n",
      "Epoch 7/500\n",
      "\u001b[1m27/27\u001b[0m \u001b[32m━━━━━━━━━━━━━━━━━━━━\u001b[0m\u001b[37m\u001b[0m \u001b[1m0s\u001b[0m 6ms/step - accuracy: 0.9278 - loss: 0.1990 - val_accuracy: 0.9349 - val_loss: 0.1937\n",
      "Epoch 8/500\n",
      "\u001b[1m27/27\u001b[0m \u001b[32m━━━━━━━━━━━━━━━━━━━━\u001b[0m\u001b[37m\u001b[0m \u001b[1m0s\u001b[0m 6ms/step - accuracy: 0.9214 - loss: 0.1819 - val_accuracy: 0.9349 - val_loss: 0.1895\n",
      "Epoch 9/500\n",
      "\u001b[1m27/27\u001b[0m \u001b[32m━━━━━━━━━━━━━━━━━━━━\u001b[0m\u001b[37m\u001b[0m \u001b[1m0s\u001b[0m 7ms/step - accuracy: 0.9503 - loss: 0.1693 - val_accuracy: 0.9256 - val_loss: 0.1859\n",
      "Epoch 10/500\n",
      "\u001b[1m27/27\u001b[0m \u001b[32m━━━━━━━━━━━━━━━━━━━━\u001b[0m\u001b[37m\u001b[0m \u001b[1m0s\u001b[0m 6ms/step - accuracy: 0.9312 - loss: 0.1947 - val_accuracy: 0.9302 - val_loss: 0.1877\n",
      "Epoch 11/500\n",
      "\u001b[1m27/27\u001b[0m \u001b[32m━━━━━━━━━━━━━━━━━━━━\u001b[0m\u001b[37m\u001b[0m \u001b[1m0s\u001b[0m 6ms/step - accuracy: 0.9489 - loss: 0.1439 - val_accuracy: 0.9256 - val_loss: 0.1923\n",
      "Epoch 12/500\n",
      "\u001b[1m27/27\u001b[0m \u001b[32m━━━━━━━━━━━━━━━━━━━━\u001b[0m\u001b[37m\u001b[0m \u001b[1m0s\u001b[0m 6ms/step - accuracy: 0.9520 - loss: 0.1417 - val_accuracy: 0.9256 - val_loss: 0.1895\n",
      "Epoch 13/500\n",
      "\u001b[1m27/27\u001b[0m \u001b[32m━━━━━━━━━━━━━━━━━━━━\u001b[0m\u001b[37m\u001b[0m \u001b[1m0s\u001b[0m 6ms/step - accuracy: 0.9357 - loss: 0.1615 - val_accuracy: 0.9302 - val_loss: 0.1958\n",
      "Epoch 14/500\n",
      "\u001b[1m27/27\u001b[0m \u001b[32m━━━━━━━━━━━━━━━━━━━━\u001b[0m\u001b[37m\u001b[0m \u001b[1m0s\u001b[0m 9ms/step - accuracy: 0.9367 - loss: 0.1317 - val_accuracy: 0.9256 - val_loss: 0.1839\n",
      "Epoch 15/500\n",
      "\u001b[1m27/27\u001b[0m \u001b[32m━━━━━━━━━━━━━━━━━━━━\u001b[0m\u001b[37m\u001b[0m \u001b[1m0s\u001b[0m 6ms/step - accuracy: 0.9555 - loss: 0.1186 - val_accuracy: 0.9302 - val_loss: 0.2109\n",
      "Epoch 16/500\n",
      "\u001b[1m27/27\u001b[0m \u001b[32m━━━━━━━━━━━━━━━━━━━━\u001b[0m\u001b[37m\u001b[0m \u001b[1m0s\u001b[0m 7ms/step - accuracy: 0.9433 - loss: 0.1580 - val_accuracy: 0.9349 - val_loss: 0.1862\n",
      "Epoch 17/500\n",
      "\u001b[1m27/27\u001b[0m \u001b[32m━━━━━━━━━━━━━━━━━━━━\u001b[0m\u001b[37m\u001b[0m \u001b[1m0s\u001b[0m 7ms/step - accuracy: 0.9560 - loss: 0.1315 - val_accuracy: 0.9256 - val_loss: 0.2034\n",
      "Epoch 18/500\n",
      "\u001b[1m27/27\u001b[0m \u001b[32m━━━━━━━━━━━━━━━━━━━━\u001b[0m\u001b[37m\u001b[0m \u001b[1m0s\u001b[0m 8ms/step - accuracy: 0.9275 - loss: 0.1556 - val_accuracy: 0.9302 - val_loss: 0.1885\n",
      "Epoch 19/500\n",
      "\u001b[1m27/27\u001b[0m \u001b[32m━━━━━━━━━━━━━━━━━━━━\u001b[0m\u001b[37m\u001b[0m \u001b[1m0s\u001b[0m 7ms/step - accuracy: 0.9585 - loss: 0.1200 - val_accuracy: 0.9349 - val_loss: 0.1922\n",
      "Epoch 20/500\n",
      "\u001b[1m27/27\u001b[0m \u001b[32m━━━━━━━━━━━━━━━━━━━━\u001b[0m\u001b[37m\u001b[0m \u001b[1m0s\u001b[0m 7ms/step - accuracy: 0.9367 - loss: 0.1406 - val_accuracy: 0.9349 - val_loss: 0.1958\n",
      "Epoch 21/500\n",
      "\u001b[1m27/27\u001b[0m \u001b[32m━━━━━━━━━━━━━━━━━━━━\u001b[0m\u001b[37m\u001b[0m \u001b[1m0s\u001b[0m 7ms/step - accuracy: 0.9755 - loss: 0.0963 - val_accuracy: 0.9349 - val_loss: 0.1914\n",
      "Epoch 22/500\n",
      "\u001b[1m27/27\u001b[0m \u001b[32m━━━━━━━━━━━━━━━━━━━━\u001b[0m\u001b[37m\u001b[0m \u001b[1m0s\u001b[0m 6ms/step - accuracy: 0.9574 - loss: 0.1031 - val_accuracy: 0.9349 - val_loss: 0.1962\n",
      "Epoch 23/500\n",
      "\u001b[1m27/27\u001b[0m \u001b[32m━━━━━━━━━━━━━━━━━━━━\u001b[0m\u001b[37m\u001b[0m \u001b[1m0s\u001b[0m 6ms/step - accuracy: 0.9571 - loss: 0.1170 - val_accuracy: 0.9395 - val_loss: 0.2005\n",
      "Epoch 24/500\n",
      "\u001b[1m27/27\u001b[0m \u001b[32m━━━━━━━━━━━━━━━━━━━━\u001b[0m\u001b[37m\u001b[0m \u001b[1m0s\u001b[0m 6ms/step - accuracy: 0.9597 - loss: 0.0963 - val_accuracy: 0.9256 - val_loss: 0.2222\n",
      "\u001b[1m9/9\u001b[0m \u001b[32m━━━━━━━━━━━━━━━━━━━━\u001b[0m\u001b[37m\u001b[0m \u001b[1m0s\u001b[0m 10ms/step\n",
      "Accuracy: 0.95\n"
     ]
    }
   ],
   "source": [
    "\n",
    "# Prepare data for training\n",
    "X = np.stack(df1['vector'].values)\n",
    "y = df1['genre_numerical'].values\n",
    "\n",
    "# Split the data\n",
    "X_train, X_test, y_train, y_test = train_test_split(X, y, test_size=0.2, random_state=424)\n",
    "\n",
    "# Build a simple neural network\n",
    "def create_model():\n",
    "    model_new = tf.keras.Sequential([\n",
    "        tf.keras.layers.Dense(128, activation='relu', input_shape=(X_train.shape[1],)),\n",
    "        tf.keras.layers.Dropout(0.5),\n",
    "        tf.keras.layers.Dense(64, activation='relu'),\n",
    "        tf.keras.layers.Dropout(0.5),\n",
    "        tf.keras.layers.Dense(1, activation='sigmoid')\n",
    "    ])\n",
    "    model_new.compile(optimizer='adam', loss='binary_crossentropy', metrics=['accuracy'])\n",
    "    return model_new\n",
    "\n",
    "model_new = create_model()\n",
    "\n",
    "# Use early stopping to prevent overfitting\n",
    "early_stopping = tf.keras.callbacks.EarlyStopping(monitor='val_loss', patience=10, restore_best_weights=True)\n",
    "\n",
    "# Train the model with validation set\n",
    "history = model_new.fit(X_train, y_train, epochs=500, batch_size=32, validation_split=0.2, callbacks=[early_stopping])\n",
    "\n",
    "# Evaluate the model\n",
    "y_pred = (model_new.predict(X_test) > 0.5).astype(int).flatten()\n",
    "accuracy = accuracy_score(y_test, y_pred)\n",
    "print(f\"Accuracy: {accuracy:.2f}\")\n"
   ]
  },
  {
   "cell_type": "code",
   "execution_count": 11,
   "metadata": {},
   "outputs": [
    {
     "name": "stdout",
     "output_type": "stream",
     "text": [
      "\u001b[1m1/1\u001b[0m \u001b[32m━━━━━━━━━━━━━━━━━━━━\u001b[0m\u001b[37m\u001b[0m \u001b[1m0s\u001b[0m 49ms/step\n",
      "description: A couple’s dream home hides a ghostly bride who longs to experience love once more, pulling them into her unfinished story.\n",
      "Predicted genre: horror (Confidence: 0.69)\n",
      "\n",
      "\u001b[1m1/1\u001b[0m \u001b[32m━━━━━━━━━━━━━━━━━━━━\u001b[0m\u001b[37m\u001b[0m \u001b[1m0s\u001b[0m 46ms/step\n",
      "description: A woman falls for a charming man, only to discover he harbors a dark secret—his love for her might be the only thing keeping his curse at bay.\n",
      "Predicted genre: horror (Confidence: 0.57)\n",
      "\n",
      "\u001b[1m1/1\u001b[0m \u001b[32m━━━━━━━━━━━━━━━━━━━━\u001b[0m\u001b[37m\u001b[0m \u001b[1m0s\u001b[0m 41ms/step\n",
      "description: Newlyweds take shelter in a forgotten mansion, where a lonely ghost tries to relive her love through them. But will she ever let them go?\n",
      "Predicted genre: horror (Confidence: 0.71)\n",
      "\n",
      "\u001b[1m1/1\u001b[0m \u001b[32m━━━━━━━━━━━━━━━━━━━━\u001b[0m\u001b[37m\u001b[0m \u001b[1m0s\u001b[0m 45ms/step\n",
      "description: A grieving woman begins receiving love letters from her late husband, leading her to a bittersweet choice—hold onto his spirit or move on.\n",
      "Predicted genre: romance (Confidence: 0.99)\n",
      "\n",
      "\u001b[1m1/1\u001b[0m \u001b[32m━━━━━━━━━━━━━━━━━━━━\u001b[0m\u001b[37m\u001b[0m \u001b[1m0s\u001b[0m 41ms/step\n",
      "description: A musician falls for a mysterious woman who only appears at night, their love growing stronger even as he senses she’s slipping away.\n",
      "Predicted genre: romance (Confidence: 0.89)\n",
      "\n",
      "\u001b[1m1/1\u001b[0m \u001b[32m━━━━━━━━━━━━━━━━━━━━\u001b[0m\u001b[37m\u001b[0m \u001b[1m0s\u001b[0m 62ms/step\n",
      "description: A man is drawn to a mesmerizing woman, unaware that loving her means embracing an eternal, intoxicating darkness.\n",
      "Predicted genre: romance (Confidence: 0.52)\n",
      "\n"
     ]
    }
   ],
   "source": [
    "\n",
    "# Function to preprocess and predict genre for a new description\n",
    "def predict_genre(description, model_new, word2vec, nlp):\n",
    "    # Tokenize and create a mean vector for the description\n",
    "    tokens = [token.text.lower() for token in nlp(description) if token.is_alpha]\n",
    "    vectors = [word2vec[word] for word in tokens if word in word2vec]\n",
    "    if vectors:\n",
    "        mean_vector = np.mean(vectors, axis=0)\n",
    "    else:\n",
    "        mean_vector = np.zeros(word2vec.vector_size)\n",
    "    \n",
    "    # Predict genre\n",
    "    prediction = model_new.predict(mean_vector.reshape(1, -1))[0][0]\n",
    "    genre = \"horror\" if prediction > 0.5 else \"romance\"\n",
    "    confidence = prediction if genre == \"horror\" else 1 - prediction\n",
    "    return genre, confidence\n",
    "\n",
    "# Example reviews for inference\n",
    "example_description = [\n",
    "    \"A couple’s dream home hides a ghostly bride who longs to experience love once more, pulling them into her unfinished story.\",\n",
    "    \"A woman falls for a charming man, only to discover he harbors a dark secret—his love for her might be the only thing keeping his curse at bay.\",\n",
    "    \"Newlyweds take shelter in a forgotten mansion, where a lonely ghost tries to relive her love through them. But will she ever let them go?\",\n",
    "    \"A grieving woman begins receiving love letters from her late husband, leading her to a bittersweet choice—hold onto his spirit or move on.\",\n",
    "    \"A musician falls for a mysterious woman who only appears at night, their love growing stronger even as he senses she’s slipping away.\",\n",
    "    \"A man is drawn to a mesmerizing woman, unaware that loving her means embracing an eternal, intoxicating darkness.\"\n",
    "]\n",
    "\n",
    "# Run inference on example reviews\n",
    "for description in example_description:\n",
    "    genre, confidence = predict_genre(description, model_new, word2vec, nlp)\n",
    "    print(f\"description: {description}\\nPredicted genre: {genre} (Confidence: {confidence:.2f})\\n\")"
   ]
  },
  {
   "cell_type": "code",
   "execution_count": 12,
   "metadata": {},
   "outputs": [],
   "source": [
    "model_new.save('C:/Users/saima/OneDrive/Desktop/Genre_Prediction/prediction.keras')"
   ]
  },
  {
   "cell_type": "code",
   "execution_count": 13,
   "metadata": {},
   "outputs": [],
   "source": [
    "import pickle\n",
    "\n",
    "# Save Word2Vec\n",
    "word2vec.save(\"word2vec.model\")\n",
    "\n",
    "# Save Tokenizer\n",
    "nlp.to_disk(\"spacy_model\")\n"
   ]
  }
 ],
 "metadata": {
  "kernelspec": {
   "display_name": "Python 3 (ipykernel)",
   "language": "python",
   "name": "python3"
  }
 },
 "nbformat": 4,
 "nbformat_minor": 2
}
